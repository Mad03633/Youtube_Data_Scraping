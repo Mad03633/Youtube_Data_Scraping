{
 "cells": [
  {
   "cell_type": "code",
   "execution_count": 1,
   "metadata": {},
   "outputs": [],
   "source": [
    "import time\n",
    "from selenium import webdriver\n",
    "from bs4 import BeautifulSoup\n",
    "from selenium.webdriver.chrome.service import Service\n",
    "import xlsxwriter"
   ]
  },
  {
   "cell_type": "code",
   "execution_count": 2,
   "metadata": {},
   "outputs": [],
   "source": [
    "# URLs to scrape\n",
    "urls = ['https://www.youtube.com/@chess/videos']"
   ]
  },
  {
   "cell_type": "code",
   "execution_count": 19,
   "metadata": {},
   "outputs": [],
   "source": [
    "# Initialize variables\n",
    "times = 0\n",
    "row = 0\n",
    "t, v, d = [], [], []\n",
    "\n",
    "service = Service(executable_path=r\"C:\\Program Files (x86)\\Google\\chromedriver-win64\\chromedriver.exe\")\n",
    "options = webdriver.ChromeOptions()\n",
    "driver = webdriver.Chrome(service=service, options=options)\n",
    "\n",
    "# Loop through each URL\n",
    "for url in urls:\n",
    "    driver.get(f'{url}/videos?view=0&sort=p&flow=grid')\n",
    "    times = 0\n",
    "    while times < 5:\n",
    "        time.sleep(1)\n",
    "        driver.execute_script(\"window.scrollTo(0, document.documentElement.scrollHeight);\")\n",
    "        times += 1\n",
    "    content = driver.page_source.encode('utf-8').strip()\n",
    "    soup = BeautifulSoup(content, 'html.parser')\n",
    "\n",
    "# Extract video titles\n",
    "title_elements = soup.findAll('yt-formatted-string', id='video-title')\n",
    "for title in title_elements:\n",
    "    t.append(title.text.strip()) \n",
    "\n",
    "# Extract views\n",
    "view_elements = soup.findAll('span', class_='inline-metadata-item style-scope ytd-video-meta-block')\n",
    "for view in view_elements:\n",
    "    if 'просмотров' in view.text:\n",
    "        v.append(view.text.strip().replace(\"\\u00a0тыс.\", \"K\").replace(\"\\u00a0млн\", \"M\"))\n",
    "\n",
    "# Extract duration\n",
    "duration_elements = soup.findAll('span', class_='style-scope ytd-thumbnail-overlay-time-status-renderer')\n",
    "for duration in duration_elements:\n",
    "        aria_label = duration.get('aria-label')\n",
    "        if aria_label and any(char.isdigit() for char in aria_label):\n",
    "            # Append only if this duration has not already been added\n",
    "            if aria_label.strip() not in d:\n",
    "                d.append(aria_label.strip())\n",
    "\n",
    "driver.quit()\n"
   ]
  },
  {
   "cell_type": "code",
   "execution_count": 20,
   "metadata": {},
   "outputs": [],
   "source": [
    "# Creating an Excel workbook and worksheet\n",
    "workbook = xlsxwriter.Workbook('file.xlsx')\n",
    "worksheet = workbook.add_worksheet()\n",
    "\n",
    "# Writing headers\n",
    "worksheet.write(0, 0, \"Title\")\n",
    "worksheet.write(0, 1, \"Views\")\n",
    "worksheet.write(0, 2, \"Duration\")\n",
    "\n",
    "# Writing data to the worksheet\n",
    "row = 1\n",
    "for title, view, duration in zip(t, v, d):\n",
    "    worksheet.write(row, 0, title)\n",
    "    worksheet.write(row, 1, view)\n",
    "    worksheet.write(row, 2, duration)\n",
    "    row += 1\n",
    "\n",
    "workbook.close()"
   ]
  },
  {
   "cell_type": "code",
   "execution_count": 21,
   "metadata": {},
   "outputs": [
    {
     "data": {
      "text/html": [
       "<div>\n",
       "<style scoped>\n",
       "    .dataframe tbody tr th:only-of-type {\n",
       "        vertical-align: middle;\n",
       "    }\n",
       "\n",
       "    .dataframe tbody tr th {\n",
       "        vertical-align: top;\n",
       "    }\n",
       "\n",
       "    .dataframe thead th {\n",
       "        text-align: right;\n",
       "    }\n",
       "</style>\n",
       "<table border=\"1\" class=\"dataframe\">\n",
       "  <thead>\n",
       "    <tr style=\"text-align: right;\">\n",
       "      <th></th>\n",
       "      <th>Title</th>\n",
       "      <th>Views</th>\n",
       "      <th>Duration</th>\n",
       "    </tr>\n",
       "  </thead>\n",
       "  <tbody>\n",
       "    <tr>\n",
       "      <th>0</th>\n",
       "      <td>HIKARU IS THE BULLET KING!!</td>\n",
       "      <td>2,9K просмотров</td>\n",
       "      <td>27 минут 3 секунды</td>\n",
       "    </tr>\n",
       "    <tr>\n",
       "      <th>1</th>\n",
       "      <td>Hikaru Weighs In On Hans vs. Magnus!</td>\n",
       "      <td>84K просмотров</td>\n",
       "      <td>12 минут 25 секунд</td>\n",
       "    </tr>\n",
       "    <tr>\n",
       "      <th>2</th>\n",
       "      <td>Magnus On Hans: I'll probably win without too ...</td>\n",
       "      <td>83K просмотров</td>\n",
       "      <td>11 минут 47 секунд</td>\n",
       "    </tr>\n",
       "    <tr>\n",
       "      <th>3</th>\n",
       "      <td>Hans Niemann | FULL INTERVIEW</td>\n",
       "      <td>190K просмотров</td>\n",
       "      <td>32 минуты 28 секунд</td>\n",
       "    </tr>\n",
       "    <tr>\n",
       "      <th>4</th>\n",
       "      <td>ALIREZA SETS UP THE LAST TRAP FOR FABI</td>\n",
       "      <td>11K просмотров</td>\n",
       "      <td>12 минут 51 секунда</td>\n",
       "    </tr>\n",
       "  </tbody>\n",
       "</table>\n",
       "</div>"
      ],
      "text/plain": [
       "                                               Title            Views  \\\n",
       "0                        HIKARU IS THE BULLET KING!!  2,9K просмотров   \n",
       "1               Hikaru Weighs In On Hans vs. Magnus!   84K просмотров   \n",
       "2  Magnus On Hans: I'll probably win without too ...   83K просмотров   \n",
       "3                      Hans Niemann | FULL INTERVIEW  190K просмотров   \n",
       "4             ALIREZA SETS UP THE LAST TRAP FOR FABI   11K просмотров   \n",
       "\n",
       "              Duration  \n",
       "0   27 минут 3 секунды  \n",
       "1   12 минут 25 секунд  \n",
       "2   11 минут 47 секунд  \n",
       "3  32 минуты 28 секунд  \n",
       "4  12 минут 51 секунда  "
      ]
     },
     "execution_count": 21,
     "metadata": {},
     "output_type": "execute_result"
    }
   ],
   "source": [
    "import pandas as pd\n",
    "\n",
    "data = pd.read_excel('file.xlsx')\n",
    "data.head()"
   ]
  },
  {
   "cell_type": "code",
   "execution_count": 25,
   "metadata": {},
   "outputs": [
    {
     "ename": "ValueError",
     "evalue": "could not convert string to float: '2,9'",
     "output_type": "error",
     "traceback": [
      "\u001b[1;31m---------------------------------------------------------------------------\u001b[0m",
      "\u001b[1;31mValueError\u001b[0m                                Traceback (most recent call last)",
      "Cell \u001b[1;32mIn[25], line 7\u001b[0m\n\u001b[0;32m      5\u001b[0m \u001b[38;5;28;01mif\u001b[39;00m(i\u001b[38;5;241m.\u001b[39mendswith(\u001b[38;5;124m'\u001b[39m\u001b[38;5;124mK\u001b[39m\u001b[38;5;124m'\u001b[39m)):\n\u001b[0;32m      6\u001b[0m     i \u001b[38;5;241m=\u001b[39m i\u001b[38;5;241m.\u001b[39mreplace(\u001b[38;5;124m'\u001b[39m\u001b[38;5;124mK\u001b[39m\u001b[38;5;124m'\u001b[39m,\u001b[38;5;124m'\u001b[39m\u001b[38;5;124m'\u001b[39m)\n\u001b[1;32m----> 7\u001b[0m     new\u001b[38;5;241m.\u001b[39mappend(\u001b[38;5;28;43mfloat\u001b[39;49m\u001b[43m(\u001b[49m\u001b[43mi\u001b[49m\u001b[43m)\u001b[49m \u001b[38;5;241m*\u001b[39m \u001b[38;5;241m1000\u001b[39m)\n\u001b[0;32m      8\u001b[0m \u001b[38;5;28;01melse\u001b[39;00m:\n\u001b[0;32m      9\u001b[0m     new\u001b[38;5;241m.\u001b[39mappend(i)\n",
      "\u001b[1;31mValueError\u001b[0m: could not convert string to float: '2,9'"
     ]
    }
   ],
   "source": [
    "data['Views'] = data['Views'].str.replace(\" просмотров\",\"\")\n",
    "new = []\n",
    "\n",
    "for i in data['Views']:\n",
    "    if(i.endswith('K')):\n",
    "        i = i.replace('K','')\n",
    "        new.append(float(i) * 1000)\n",
    "    else:\n",
    "        new.append(i)\n",
    "\n",
    "data['Views'] = new"
   ]
  }
 ],
 "metadata": {
  "kernelspec": {
   "display_name": "Python 3",
   "language": "python",
   "name": "python3"
  },
  "language_info": {
   "codemirror_mode": {
    "name": "ipython",
    "version": 3
   },
   "file_extension": ".py",
   "mimetype": "text/x-python",
   "name": "python",
   "nbconvert_exporter": "python",
   "pygments_lexer": "ipython3",
   "version": "3.11.5"
  }
 },
 "nbformat": 4,
 "nbformat_minor": 2
}
