{
 "cells": [
  {
   "cell_type": "code",
   "execution_count": 1,
   "metadata": {},
   "outputs": [],
   "source": [
    "import time\n",
    "from selenium import webdriver\n",
    "from bs4 import BeautifulSoup\n",
    "from selenium.webdriver.chrome.service import Service\n",
    "import xlsxwriter"
   ]
  },
  {
   "cell_type": "code",
   "execution_count": 2,
   "metadata": {},
   "outputs": [],
   "source": [
    "# URLs to scrape\n",
    "urls = ['https://www.youtube.com/@chess/videos']"
   ]
  },
  {
   "cell_type": "code",
   "execution_count": 8,
   "metadata": {},
   "outputs": [],
   "source": [
    "# Initialize variables\n",
    "times = 0\n",
    "row = 0\n",
    "t, v, d = [], [], []\n",
    "\n",
    "service = Service(executable_path=r\"C:\\Program Files (x86)\\Google\\chromedriver-win64\\chromedriver.exe\")\n",
    "options = webdriver.ChromeOptions()\n",
    "driver = webdriver.Chrome(service=service, options=options)\n",
    "\n",
    "# Loop through each URL\n",
    "for url in urls:\n",
    "    driver.get(f'{url}/videos?view=0&sort=p&flow=grid')\n",
    "    times = 0\n",
    "    while times < 5:\n",
    "        time.sleep(1)\n",
    "        driver.execute_script(\"window.scrollTo(0, document.documentElement.scrollHeight);\")\n",
    "        times += 1\n",
    "    content = driver.page_source.encode('utf-8').strip()\n",
    "    soup = BeautifulSoup(content, 'html.parser')\n",
    "\n",
    "# Extract video titles\n",
    "title_elements = soup.findAll('yt-formatted-string', id='video-title')\n",
    "for title in title_elements:\n",
    "    t.append(title.text.strip()) \n",
    "\n",
    "# Extract views\n",
    "view_elements = soup.findAll('span', class_='inline-metadata-item style-scope ytd-video-meta-block')\n",
    "\n",
    "for view in view_elements:\n",
    "    # Ensure the element contains view counts and not other spans\n",
    "    v.append(view.text.strip().replace(\"\\u00a0тыс.\", \"K\").replace(\"\\u00a0млн\", \"M\"))\n",
    "\n",
    "# Extract duration\n",
    "duration_elements = soup.findAll('span', class_='style-scope ytd-thumbnail-overlay-time-status-renderer')\n",
    "for duration in duration_elements:\n",
    "        d.append(duration.text.strip()) \n",
    "\n",
    "driver.quit()\n"
   ]
  },
  {
   "cell_type": "code",
   "execution_count": 9,
   "metadata": {},
   "outputs": [],
   "source": [
    "# Creating an Excel workbook and worksheet\n",
    "workbook = xlsxwriter.Workbook('file.xlsx')\n",
    "worksheet = workbook.add_worksheet()\n",
    "\n",
    "# Writing headers\n",
    "worksheet.write(0, 0, \"Title\")\n",
    "worksheet.write(0, 1, \"Views\")\n",
    "worksheet.write(0, 2, \"Duration\")\n",
    "\n",
    "# Writing data to the worksheet\n",
    "row = 1\n",
    "for title, view, duration in zip(t, v, d):\n",
    "    worksheet.write(row, 0, title)\n",
    "    worksheet.write(row, 1, view)\n",
    "    worksheet.write(row, 2, duration)\n",
    "    row += 1\n",
    "\n",
    "workbook.close()"
   ]
  },
  {
   "cell_type": "code",
   "execution_count": null,
   "metadata": {},
   "outputs": [],
   "source": [
    "import pandas as pd\n",
    "\n",
    "data = pd.read_excel('')"
   ]
  }
 ],
 "metadata": {
  "kernelspec": {
   "display_name": "Python 3",
   "language": "python",
   "name": "python3"
  },
  "language_info": {
   "codemirror_mode": {
    "name": "ipython",
    "version": 3
   },
   "file_extension": ".py",
   "mimetype": "text/x-python",
   "name": "python",
   "nbconvert_exporter": "python",
   "pygments_lexer": "ipython3",
   "version": "3.11.5"
  }
 },
 "nbformat": 4,
 "nbformat_minor": 2
}
