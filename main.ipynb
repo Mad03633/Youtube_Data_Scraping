{
 "cells": [
  {
   "cell_type": "code",
   "execution_count": 2,
   "metadata": {},
   "outputs": [],
   "source": [
    "import time\n",
    "from selenium import webdriver\n",
    "from bs4 import BeautifulSoup\n",
    "from selenium.webdriver.chrome.service import Service\n",
    "import xlsxwriter"
   ]
  },
  {
   "cell_type": "code",
   "execution_count": 3,
   "metadata": {},
   "outputs": [],
   "source": [
    "# URLs to scrape\n",
    "urls = ['https://www.youtube.com/@chess/videos']"
   ]
  },
  {
   "cell_type": "code",
   "execution_count": 4,
   "metadata": {},
   "outputs": [],
   "source": [
    "# Initialize variables\n",
    "times = 0\n",
    "row = 0\n",
    "t, v, d = [], [], []\n",
    "\n",
    "service = Service(executable_path=r\"C:\\Program Files (x86)\\Google\\chromedriver-win64\\chromedriver.exe\")\n",
    "options = webdriver.ChromeOptions()\n",
    "driver = webdriver.Chrome(service=service, options=options)\n",
    "\n",
    "# Loop through each URL\n",
    "for url in urls:\n",
    "    driver.get(f'{url}/videos?view=0&sort=p&flow=grid')\n",
    "    times = 0\n",
    "    while times < 5:\n",
    "        time.sleep(1)\n",
    "        driver.execute_script(\"window.scrollTo(0, document.documentElement.scrollHeight);\")\n",
    "        times += 1\n",
    "    content = driver.page_source.encode('utf-8').strip()\n",
    "    soup = BeautifulSoup(content, 'html.parser')\n",
    "\n",
    "# Extract video titles\n",
    "title_elements = soup.findAll('yt-formatted-string', id='video-title')\n",
    "for title in title_elements:\n",
    "    t.append(title.text.strip()) \n",
    "\n",
    "# Extract views\n",
    "view_elements = soup.findAll('span', class_='inline-metadata-item style-scope ytd-video-meta-block')\n",
    "for view in view_elements:\n",
    "    if 'просмотров' in view.text:\n",
    "        v.append(view.text.strip().replace(\"\\u00a0тыс.\", \"K\").replace(\"\\u00a0млн\", \"M\"))\n",
    "\n",
    "# Extract duration\n",
    "duration_elements = soup.findAll('span', class_='style-scope ytd-thumbnail-overlay-time-status-renderer')\n",
    "for duration in duration_elements:\n",
    "    aria_label = duration.get('aria-label')\n",
    "    if aria_label and any(char.isdigit() for char in aria_label):\n",
    "        d.append(aria_label.strip())\n",
    "\n",
    "driver.quit()\n"
   ]
  },
  {
   "cell_type": "code",
   "execution_count": 5,
   "metadata": {},
   "outputs": [],
   "source": [
    "# Creating an Excel workbook and worksheet\n",
    "workbook = xlsxwriter.Workbook('file.xlsx')\n",
    "worksheet = workbook.add_worksheet()\n",
    "\n",
    "# Writing headers\n",
    "worksheet.write(0, 0, \"Title\")\n",
    "worksheet.write(0, 1, \"Views\")\n",
    "worksheet.write(0, 2, \"Duration\")\n",
    "\n",
    "# Writing data to the worksheet\n",
    "row = 1\n",
    "for title, view, duration in zip(t, v, d):\n",
    "    worksheet.write(row, 0, title)\n",
    "    worksheet.write(row, 1, view)\n",
    "    worksheet.write(row, 2, duration)\n",
    "    row += 1\n",
    "\n",
    "workbook.close()"
   ]
  },
  {
   "cell_type": "code",
   "execution_count": 11,
   "metadata": {},
   "outputs": [
    {
     "data": {
      "text/html": [
       "<div>\n",
       "<style scoped>\n",
       "    .dataframe tbody tr th:only-of-type {\n",
       "        vertical-align: middle;\n",
       "    }\n",
       "\n",
       "    .dataframe tbody tr th {\n",
       "        vertical-align: top;\n",
       "    }\n",
       "\n",
       "    .dataframe thead th {\n",
       "        text-align: right;\n",
       "    }\n",
       "</style>\n",
       "<table border=\"1\" class=\"dataframe\">\n",
       "  <thead>\n",
       "    <tr style=\"text-align: right;\">\n",
       "      <th></th>\n",
       "      <th>Title</th>\n",
       "      <th>Views</th>\n",
       "      <th>Duration</th>\n",
       "    </tr>\n",
       "  </thead>\n",
       "  <tbody>\n",
       "    <tr>\n",
       "      <th>0</th>\n",
       "      <td>HIKARU'S REAL THOUGHTS ABOUT LEVY REVEALED 😞 |...</td>\n",
       "      <td>391K просмотров</td>\n",
       "      <td>40:18</td>\n",
       "    </tr>\n",
       "    <tr>\n",
       "      <th>1</th>\n",
       "      <td>Chess Prodigy Bodhana Sivananadan Meets Judit ...</td>\n",
       "      <td>2 дня назад</td>\n",
       "      <td>40:18</td>\n",
       "    </tr>\n",
       "    <tr>\n",
       "      <th>2</th>\n",
       "      <td>3 Minutes Of Hikaru Premoving Checkmate</td>\n",
       "      <td>22K просмотров</td>\n",
       "      <td>20:07</td>\n",
       "    </tr>\n",
       "    <tr>\n",
       "      <th>3</th>\n",
       "      <td>GRANDMASTERS GUESS CHESS POSITIONS WITHOUT SEE...</td>\n",
       "      <td>7 дней назад</td>\n",
       "      <td>20:07</td>\n",
       "    </tr>\n",
       "    <tr>\n",
       "      <th>4</th>\n",
       "      <td>THE WORST CHESS ADVICE?! GM REACTS!</td>\n",
       "      <td>31K просмотров</td>\n",
       "      <td>3:43</td>\n",
       "    </tr>\n",
       "  </tbody>\n",
       "</table>\n",
       "</div>"
      ],
      "text/plain": [
       "                                               Title            Views Duration\n",
       "0  HIKARU'S REAL THOUGHTS ABOUT LEVY REVEALED 😞 |...  391K просмотров    40:18\n",
       "1  Chess Prodigy Bodhana Sivananadan Meets Judit ...      2 дня назад    40:18\n",
       "2            3 Minutes Of Hikaru Premoving Checkmate   22K просмотров    20:07\n",
       "3  GRANDMASTERS GUESS CHESS POSITIONS WITHOUT SEE...     7 дней назад    20:07\n",
       "4                THE WORST CHESS ADVICE?! GM REACTS!   31K просмотров     3:43"
      ]
     },
     "execution_count": 11,
     "metadata": {},
     "output_type": "execute_result"
    }
   ],
   "source": [
    "import pandas as pd\n",
    "\n",
    "data = pd.read_excel('file.xlsx')\n",
    "data.head()"
   ]
  },
  {
   "cell_type": "code",
   "execution_count": 12,
   "metadata": {},
   "outputs": [
    {
     "ename": "ValueError",
     "evalue": "could not convert string to float: '9,8'",
     "output_type": "error",
     "traceback": [
      "\u001b[1;31m---------------------------------------------------------------------------\u001b[0m",
      "\u001b[1;31mValueError\u001b[0m                                Traceback (most recent call last)",
      "Cell \u001b[1;32mIn[12], line 8\u001b[0m\n\u001b[0;32m      6\u001b[0m \u001b[38;5;28;01mif\u001b[39;00m \u001b[38;5;124m'\u001b[39m\u001b[38;5;124mK\u001b[39m\u001b[38;5;124m'\u001b[39m \u001b[38;5;129;01min\u001b[39;00m i:\n\u001b[0;32m      7\u001b[0m     i \u001b[38;5;241m=\u001b[39m i\u001b[38;5;241m.\u001b[39mreplace(\u001b[38;5;124m'\u001b[39m\u001b[38;5;124mK\u001b[39m\u001b[38;5;124m'\u001b[39m, \u001b[38;5;124m'\u001b[39m\u001b[38;5;124m'\u001b[39m)\n\u001b[1;32m----> 8\u001b[0m     new_views\u001b[38;5;241m.\u001b[39mappend(\u001b[38;5;28mfloat\u001b[39m(i) \u001b[38;5;241m*\u001b[39m \u001b[38;5;241m1000\u001b[39m)\n\u001b[0;32m      9\u001b[0m \u001b[38;5;28;01melif\u001b[39;00m \u001b[38;5;124m'\u001b[39m\u001b[38;5;124mM\u001b[39m\u001b[38;5;124m'\u001b[39m \u001b[38;5;129;01min\u001b[39;00m i:\n\u001b[0;32m     10\u001b[0m     i \u001b[38;5;241m=\u001b[39m i\u001b[38;5;241m.\u001b[39mreplace(\u001b[38;5;124m'\u001b[39m\u001b[38;5;124mM\u001b[39m\u001b[38;5;124m'\u001b[39m, \u001b[38;5;124m'\u001b[39m\u001b[38;5;124m'\u001b[39m)\n",
      "\u001b[1;31mValueError\u001b[0m: could not convert string to float: '9,8'"
     ]
    }
   ],
   "source": [
    "# Remove extra characters from the Views column \n",
    "data['Views'] = data['Views'].str.replace(\" просмотров\", \"\").str.replace(\" \", \"\")\n",
    "new_views = []\n",
    "\n",
    "for i in data['Views']:\n",
    "    if 'K' in i:\n",
    "        i = i.replace('K', '')\n",
    "        new_views.append(float(i) * 1000)\n",
    "    elif 'M' in i:\n",
    "        i = i.replace('M', '')\n",
    "        new_views.append(float(i) * 1000000)\n",
    "    else:\n",
    "        new_views.append(i)\n",
    "\n",
    "data['View'] = new_views"
   ]
  }
 ],
 "metadata": {
  "kernelspec": {
   "display_name": "Python 3",
   "language": "python",
   "name": "python3"
  },
  "language_info": {
   "codemirror_mode": {
    "name": "ipython",
    "version": 3
   },
   "file_extension": ".py",
   "mimetype": "text/x-python",
   "name": "python",
   "nbconvert_exporter": "python",
   "pygments_lexer": "ipython3",
   "version": "3.11.5"
  }
 },
 "nbformat": 4,
 "nbformat_minor": 2
}
